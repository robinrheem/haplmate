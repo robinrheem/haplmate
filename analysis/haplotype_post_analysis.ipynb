{
 "cells": [
  {
   "cell_type": "markdown",
   "id": "62d794fb-9a8c-485b-900c-25a2a780cb40",
   "metadata": {},
   "source": [
    "# Estimated Haplotype Post Analysis\n",
    "\n",
    "- See if log likelihood converged to the right haplotype frequency\n",
    "- See if the estimated haplotype frequencies are close to the true haplotype frequencies throughout all samples\n",
    "- See if the estimated haplotypes exist in the true haplotypes, wrongly estimated haplotypes that are not in the true haplotype set, and haplotypes that weren't estimated but existed in the true haplotypes. Shows the relationship between haplotypes and an MST."
   ]
  },
  {
   "cell_type": "code",
   "execution_count": 1,
   "id": "693f94c8-b12f-4362-842c-974b511ee114",
   "metadata": {
    "editable": true,
    "slideshow": {
     "slide_type": ""
    },
    "tags": [
     "parameters"
    ]
   },
   "outputs": [],
   "source": [
    "# Parameters\n",
    "true_haplotypes = \"true_haplotypes.csv\"\n",
    "estimation_count = 6"
   ]
  },
  {
   "cell_type": "code",
   "execution_count": 1,
   "id": "3286f8ed-27fa-47d0-bfae-137adcb5e572",
   "metadata": {},
   "outputs": [
    {
     "name": "stderr",
     "output_type": "stream",
     "text": [
      "Error importing in API mode: ImportError(\"dlopen(/Users/robinrheem/Projects/haplmate/analysis/.venv/lib/python3.10/site-packages/_rinterface_cffi_api.abi3.so, 0x0002): Library not loaded: /Library/Frameworks/R.framework/Versions/4.5-arm64/Resources/lib/libRblas.dylib\\n  Referenced from: <5D5850CD-D7D2-34AF-AE34-CAB615F2444F> /Users/robinrheem/Projects/haplmate/analysis/.venv/lib/python3.10/site-packages/_rinterface_cffi_api.abi3.so\\n  Reason: tried: '/Library/Frameworks/R.framework/Versions/4.5-arm64/Resources/lib/libRblas.dylib' (no such file), '/System/Volumes/Preboot/Cryptexes/OS/Library/Frameworks/R.framework/Versions/4.5-arm64/Resources/lib/libRblas.dylib' (no such file), '/Library/Frameworks/R.framework/Versions/4.5-arm64/Resources/lib/libRblas.dylib' (no such file)\")\n",
      "Trying to import in ABI mode.\n"
     ]
    }
   ],
   "source": [
    "import rpy2.robjects as robjects"
   ]
  },
  {
   "cell_type": "code",
   "execution_count": 5,
   "id": "aed9bd47-76e8-435c-a0ad-0ade3bf88f3c",
   "metadata": {
    "scrolled": true
   },
   "outputs": [
    {
     "name": "stderr",
     "output_type": "stream",
     "text": [
      "R callback write-console: Using GitHub PAT from the git credential store.\n",
      "  \n",
      "R callback write-console: Error: Failed to install 'unknown package' from GitHub:\n",
      "  HTTP error 404.\n",
      "  Not Found\n",
      "\n",
      "  Did you spell the repo owner (`mhoban`) and repo name (`haplonet`) correctly?\n",
      "  - If spelling is correct, check that you have the required permissions to access the repo.\n",
      "  \n"
     ]
    },
    {
     "ename": "RRuntimeError",
     "evalue": "Error: Failed to install 'unknown package' from GitHub:\n  HTTP error 404.\n  Not Found\n\n  Did you spell the repo owner (`mhoban`) and repo name (`haplonet`) correctly?\n  - If spelling is correct, check that you have the required permissions to access the repo.\n",
     "output_type": "error",
     "traceback": [
      "\u001b[0;31m---------------------------------------------------------------------------\u001b[0m",
      "\u001b[0;31mRRuntimeError\u001b[0m                             Traceback (most recent call last)",
      "Cell \u001b[0;32mIn[5], line 1\u001b[0m\n\u001b[0;32m----> 1\u001b[0m \u001b[43mrobjects\u001b[49m\u001b[38;5;241;43m.\u001b[39;49m\u001b[43mr\u001b[49m\u001b[43m(\u001b[49m\u001b[38;5;124;43m'''\u001b[39;49m\n\u001b[1;32m      2\u001b[0m \u001b[38;5;124;43mif (!requireNamespace(\u001b[39;49m\u001b[38;5;124;43m\"\u001b[39;49m\u001b[38;5;124;43mremotes\u001b[39;49m\u001b[38;5;124;43m\"\u001b[39;49m\u001b[38;5;124;43m, quietly=TRUE)) \u001b[39;49m\n\u001b[1;32m      3\u001b[0m \u001b[38;5;124;43m    install.packages(\u001b[39;49m\u001b[38;5;124;43m\"\u001b[39;49m\u001b[38;5;124;43mremotes\u001b[39;49m\u001b[38;5;124;43m\"\u001b[39;49m\u001b[38;5;124;43m, repos = \u001b[39;49m\u001b[38;5;124;43m\"\u001b[39;49m\u001b[38;5;124;43mhttps://cloud.r-project.org\u001b[39;49m\u001b[38;5;124;43m\"\u001b[39;49m\u001b[38;5;124;43m)\u001b[39;49m\n\u001b[1;32m      4\u001b[0m \n\u001b[1;32m      5\u001b[0m \u001b[38;5;124;43mremotes::install_github(\u001b[39;49m\u001b[38;5;124;43m\"\u001b[39;49m\u001b[38;5;124;43mmhoban/haplonet\u001b[39;49m\u001b[38;5;124;43m\"\u001b[39;49m\u001b[38;5;124;43m)\u001b[39;49m\n\u001b[1;32m      6\u001b[0m \u001b[38;5;124;43m'''\u001b[39;49m\u001b[43m)\u001b[49m\n",
      "File \u001b[0;32m~/Projects/haplmate/analysis/.venv/lib/python3.10/site-packages/rpy2/robjects/__init__.py:549\u001b[0m, in \u001b[0;36mR.__call__\u001b[0;34m(self, string, invisible, print_r_warnings)\u001b[0m\n\u001b[1;32m    547\u001b[0m     invisible \u001b[38;5;241m=\u001b[39m \u001b[38;5;28mself\u001b[39m\u001b[38;5;241m.\u001b[39m_invisible\n\u001b[1;32m    548\u001b[0m \u001b[38;5;28;01mif\u001b[39;00m invisible:\n\u001b[0;32m--> 549\u001b[0m     res, visible \u001b[38;5;241m=\u001b[39m \u001b[43mrinterface\u001b[49m\u001b[38;5;241;43m.\u001b[39;49m\u001b[43mevalr_expr_with_visible\u001b[49m\u001b[43m(\u001b[49m\u001b[43m   \u001b[49m\u001b[38;5;66;43;03m# type: ignore\u001b[39;49;00m\n\u001b[1;32m    550\u001b[0m \u001b[43m        \u001b[49m\u001b[43mr_expr\u001b[49m\n\u001b[1;32m    551\u001b[0m \u001b[43m    \u001b[49m\u001b[43m)\u001b[49m\n\u001b[1;32m    552\u001b[0m     \u001b[38;5;28;01mif\u001b[39;00m \u001b[38;5;129;01mnot\u001b[39;00m visible[\u001b[38;5;241m0\u001b[39m]:  \u001b[38;5;66;03m# type: ignore\u001b[39;00m\n\u001b[1;32m    553\u001b[0m         res \u001b[38;5;241m=\u001b[39m \u001b[38;5;28;01mNone\u001b[39;00m\n",
      "File \u001b[0;32m~/Projects/haplmate/analysis/.venv/lib/python3.10/site-packages/rpy2/rinterface/__init__.py:196\u001b[0m, in \u001b[0;36mevalr_expr_with_visible\u001b[0;34m(expr, envir)\u001b[0m\n\u001b[1;32m    189\u001b[0m r_res \u001b[38;5;241m=\u001b[39m rmemory\u001b[38;5;241m.\u001b[39mprotect(\n\u001b[1;32m    190\u001b[0m         openrlib\u001b[38;5;241m.\u001b[39mrlib\u001b[38;5;241m.\u001b[39mR_tryEval(\n\u001b[1;32m    191\u001b[0m             r_call,\n\u001b[1;32m    192\u001b[0m             envir\u001b[38;5;241m.\u001b[39m__sexp__\u001b[38;5;241m.\u001b[39m_cdata,  \u001b[38;5;66;03m# call context.\u001b[39;00m\n\u001b[1;32m    193\u001b[0m             error_occured)\n\u001b[1;32m    194\u001b[0m )\n\u001b[1;32m    195\u001b[0m \u001b[38;5;28;01mif\u001b[39;00m error_occured[\u001b[38;5;241m0\u001b[39m]:\n\u001b[0;32m--> 196\u001b[0m     \u001b[38;5;28;01mraise\u001b[39;00m embedded\u001b[38;5;241m.\u001b[39mRRuntimeError(_rinterface\u001b[38;5;241m.\u001b[39m_geterrmessage())\n\u001b[1;32m    197\u001b[0m res \u001b[38;5;241m=\u001b[39m conversion\u001b[38;5;241m.\u001b[39m_cdata_to_rinterface(r_res)\n\u001b[1;32m    198\u001b[0m \u001b[38;5;28;01massert\u001b[39;00m \u001b[38;5;28misinstance\u001b[39m(res, ListSexpVector)\n",
      "\u001b[0;31mRRuntimeError\u001b[0m: Error: Failed to install 'unknown package' from GitHub:\n  HTTP error 404.\n  Not Found\n\n  Did you spell the repo owner (`mhoban`) and repo name (`haplonet`) correctly?\n  - If spelling is correct, check that you have the required permissions to access the repo.\n"
     ]
    }
   ],
   "source": [
    "\n",
    "robjects.r('''\n",
    "if (!requireNamespace(\"remotes\", quietly=TRUE)) \n",
    "    install.packages(\"remotes\", repos = \"https://cloud.r-project.org\")\n",
    "\n",
    "remotes::install_github(\"mhoban/haplonet\")\n",
    "''')"
   ]
  },
  {
   "cell_type": "code",
   "execution_count": null,
   "id": "65b4d137-08bf-4b9f-8c28-f6376f00a3be",
   "metadata": {},
   "outputs": [],
   "source": []
  }
 ],
 "metadata": {
  "kernelspec": {
   "display_name": "Python 3 (ipykernel)",
   "language": "python",
   "name": "python3"
  },
  "language_info": {
   "codemirror_mode": {
    "name": "ipython",
    "version": 3
   },
   "file_extension": ".py",
   "mimetype": "text/x-python",
   "name": "python",
   "nbconvert_exporter": "python",
   "pygments_lexer": "ipython3",
   "version": "3.10.16"
  }
 },
 "nbformat": 4,
 "nbformat_minor": 5
}
